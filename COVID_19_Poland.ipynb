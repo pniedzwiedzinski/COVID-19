{
  "nbformat": 4,
  "nbformat_minor": 0,
  "metadata": {
    "colab": {
      "name": "COVID-19_Poland.ipynb",
      "provenance": [],
      "authorship_tag": "ABX9TyNCVUX0ShlyjLRdxjoooGAq",
      "include_colab_link": true
    },
    "kernelspec": {
      "name": "python3",
      "display_name": "Python 3"
    }
  },
  "cells": [
    {
      "cell_type": "markdown",
      "metadata": {
        "id": "view-in-github",
        "colab_type": "text"
      },
      "source": [
        "<a href=\"https://colab.research.google.com/github/pniedzwiedzinski/COVID-19/blob/master/COVID_19_Poland.ipynb\" target=\"_parent\"><img src=\"https://colab.research.google.com/assets/colab-badge.svg\" alt=\"Open In Colab\"/></a>"
      ]
    },
    {
      "cell_type": "markdown",
      "metadata": {
        "id": "8rW1voLbb_q-",
        "colab_type": "text"
      },
      "source": [
        "# COVID-19\n",
        "\n",
        "As I'm writing this, there are 25 confirmed infections of the Coronavirus in Poland in span of a week. In this notebook I wrote couple of simulation that would show how fast the epidemic could spread. "
      ]
    },
    {
      "cell_type": "code",
      "metadata": {
        "id": "l90jyd8Zc6tc",
        "colab_type": "code",
        "outputId": "e315e342-a6db-4865-dbfe-6d931e2c1c86",
        "colab": {
          "base_uri": "https://localhost:8080/",
          "height": 141
        }
      },
      "source": [
        "# Public dataset of contagions grouped by countries\n",
        "!git clone https://github.com/CSSEGISandData/COVID-19"
      ],
      "execution_count": 1,
      "outputs": [
        {
          "output_type": "stream",
          "text": [
            "Cloning into 'COVID-19'...\n",
            "remote: Enumerating objects: 151, done.\u001b[K\n",
            "remote: Counting objects: 100% (151/151), done.\u001b[K\n",
            "remote: Compressing objects: 100% (83/83), done.\u001b[K\n",
            "remote: Total 12651 (delta 70), reused 122 (delta 42), pack-reused 12500\u001b[K\n",
            "Receiving objects: 100% (12651/12651), 40.51 MiB | 33.92 MiB/s, done.\n",
            "Resolving deltas: 100% (6045/6045), done.\n"
          ],
          "name": "stdout"
        }
      ]
    },
    {
      "cell_type": "code",
      "metadata": {
        "id": "FgJTlcCGddGu",
        "colab_type": "code",
        "colab": {}
      },
      "source": [
        "import pandas as pd\n",
        "import numpy as np\n",
        "from bokeh.plotting import figure, show\n",
        "from bokeh.io import output_notebook\n",
        "output_notebook()"
      ],
      "execution_count": 0,
      "outputs": []
    },
    {
      "cell_type": "code",
      "metadata": {
        "id": "lji_sy-Ld6y0",
        "colab_type": "code",
        "outputId": "e0456e49-de2f-4e1d-c212-d28fd07916d9",
        "colab": {
          "base_uri": "https://localhost:8080/",
          "height": 107
        }
      },
      "source": [
        "# Load and prepare data\n",
        "\n",
        "d = pd.read_csv(\"COVID-19/csse_covid_19_data/csse_covid_19_time_series/time_series_19-covid-Confirmed.csv\", index_col=\"Country/Region\")\n",
        "dataset = d.filter(like=\"Poland\", axis=0)\n",
        "\n",
        "# Remove empty months\n",
        "# TODO: Fix regex to include months with '2 digits'\n",
        "dataset = dataset.filter(regex=\"[3-9]\\/\\d+\\/\\d+\")\n",
        "dataset.head()"
      ],
      "execution_count": 3,
      "outputs": [
        {
          "output_type": "execute_result",
          "data": {
            "text/html": [
              "<div>\n",
              "<style scoped>\n",
              "    .dataframe tbody tr th:only-of-type {\n",
              "        vertical-align: middle;\n",
              "    }\n",
              "\n",
              "    .dataframe tbody tr th {\n",
              "        vertical-align: top;\n",
              "    }\n",
              "\n",
              "    .dataframe thead th {\n",
              "        text-align: right;\n",
              "    }\n",
              "</style>\n",
              "<table border=\"1\" class=\"dataframe\">\n",
              "  <thead>\n",
              "    <tr style=\"text-align: right;\">\n",
              "      <th></th>\n",
              "      <th>3/1/20</th>\n",
              "      <th>3/2/20</th>\n",
              "      <th>3/3/20</th>\n",
              "      <th>3/4/20</th>\n",
              "      <th>3/5/20</th>\n",
              "      <th>3/6/20</th>\n",
              "      <th>3/7/20</th>\n",
              "      <th>3/8/20</th>\n",
              "      <th>3/9/20</th>\n",
              "      <th>3/10/20</th>\n",
              "    </tr>\n",
              "    <tr>\n",
              "      <th>Country/Region</th>\n",
              "      <th></th>\n",
              "      <th></th>\n",
              "      <th></th>\n",
              "      <th></th>\n",
              "      <th></th>\n",
              "      <th></th>\n",
              "      <th></th>\n",
              "      <th></th>\n",
              "      <th></th>\n",
              "      <th></th>\n",
              "    </tr>\n",
              "  </thead>\n",
              "  <tbody>\n",
              "    <tr>\n",
              "      <th>Poland</th>\n",
              "      <td>0</td>\n",
              "      <td>0</td>\n",
              "      <td>0</td>\n",
              "      <td>1</td>\n",
              "      <td>1</td>\n",
              "      <td>5</td>\n",
              "      <td>5</td>\n",
              "      <td>11</td>\n",
              "      <td>16</td>\n",
              "      <td>22</td>\n",
              "    </tr>\n",
              "  </tbody>\n",
              "</table>\n",
              "</div>"
            ],
            "text/plain": [
              "                3/1/20  3/2/20  3/3/20  3/4/20  ...  3/7/20  3/8/20  3/9/20  3/10/20\n",
              "Country/Region                                  ...                                 \n",
              "Poland               0       0       0       1  ...       5      11      16       22\n",
              "\n",
              "[1 rows x 10 columns]"
            ]
          },
          "metadata": {
            "tags": []
          },
          "execution_count": 3
        }
      ]
    },
    {
      "cell_type": "code",
      "metadata": {
        "id": "2UEkABgceKNx",
        "colab_type": "code",
        "outputId": "dc310997-f88c-4712-e1fa-52c18e75c34a",
        "colab": {
          "base_uri": "https://localhost:8080/",
          "height": 282
        }
      },
      "source": [
        "import matplotlib.pyplot as plt\n",
        "\n",
        "dline = (dataset.columns, dataset.values[0])\n",
        "\n",
        "fig, ax = plt.subplots()\n",
        "ax.plot(*dline)"
      ],
      "execution_count": 4,
      "outputs": [
        {
          "output_type": "execute_result",
          "data": {
            "text/plain": [
              "[<matplotlib.lines.Line2D at 0x7f9e0361aac8>]"
            ]
          },
          "metadata": {
            "tags": []
          },
          "execution_count": 4
        },
        {
          "output_type": "display_data",
          "data": {
            "image/png": "[encoded data removed]",
            "text/plain": [
              "<Figure size 432x288 with 1 Axes>"
            ]
          },
          "metadata": {
            "tags": []
          }
        }
      ]
    },
    {
      "cell_type": "markdown",
      "metadata": {
        "id": "UscRk_Vrjkl5",
        "colab_type": "text"
      },
      "source": [
        "## Exponential growth\n",
        "\n",
        "The growth of infected people is not static. As more are infected the more people are getting contagious. That's why the growth is exponential. Let's test this theory."
      ]
    },
    {
      "cell_type": "code",
      "metadata": {
        "id": "pbe-5Baigqdw",
        "colab_type": "code",
        "outputId": "54a92452-8a01-4b34-9d82-0fff98832301",
        "colab": {
          "base_uri": "https://localhost:8080/",
          "height": 300
        }
      },
      "source": [
        "def exponential_line_generator(length: int, growth: float = 1.4):\n",
        "  x = 1\n",
        "  yield x\n",
        "  for _ in range(length):\n",
        "    x *= growth\n",
        "    yield x\n",
        "\n",
        "line = list(exponential_line_generator(len(dataset.columns) - 1))\n",
        "print(line)\n",
        "\n",
        "fig, ax = plt.subplots()\n",
        "ax.plot(line)\n",
        "ax.plot(*dline)"
      ],
      "execution_count": 5,
      "outputs": [
        {
          "output_type": "stream",
          "text": [
            "[1, 1.4, 1.9599999999999997, 2.7439999999999993, 3.841599999999999, 5.378239999999998, 7.529535999999997, 10.541350399999995, 14.757890559999993, 20.66104678399999]\n"
          ],
          "name": "stdout"
        },
        {
          "output_type": "execute_result",
          "data": {
            "text/plain": [
              "[<matplotlib.lines.Line2D at 0x7f9e0300f780>]"
            ]
          },
          "metadata": {
            "tags": []
          },
          "execution_count": 5
        },
        {
          "output_type": "display_data",
          "data": {
            "image/png": "[encoded data removed]",
            "text/plain": [
              "<Figure size 432x288 with 1 Axes>"
            ]
          },
          "metadata": {
            "tags": []
          }
        }
      ]
    },
    {
      "cell_type": "markdown",
      "metadata": {
        "id": "df-JDnHGmZdw",
        "colab_type": "text"
      },
      "source": [
        "That looks convincing.\n",
        "\n",
        "### Is it really exponential growth?\n",
        "If you are from far future you might get different results. In nature exponential growth is extremely rare. In our example the number of new infections might drop down due to discovery of the cure (or in bad scenario that all the human population is infected).\n",
        "\n",
        "In my example I multiplied the previous result by static growth factor, but in real life this factor would change over time. As I'm writing this I found that factor `1.4` matches our data the best. But over time this factor would decrease (hopefully). "
      ]
    },
    {
      "cell_type": "code",
      "metadata": {
        "id": "qQRh79hIlnBB",
        "colab_type": "code",
        "outputId": "9a719a64-a781-4b81-c35e-7326b89da4e0",
        "colab": {
          "base_uri": "https://localhost:8080/",
          "height": 282
        }
      },
      "source": [
        "def infection_simulation(length: int, growth: float = 1.4, rate: float = 0.994, min_growth: float = 1.0):\n",
        "  x = 1\n",
        "  yield x\n",
        "  for _ in range(length):\n",
        "    x *= growth\n",
        "    growth = max(min_growth, growth*rate) # For now, we want to show the total infected, without the 'cured'\n",
        "    yield x\n",
        "\n",
        "line = list(infection_simulation(60))\n",
        "\n",
        "fig, ax = plt.subplots()\n",
        "ax.plot(line)"
      ],
      "execution_count": 6,
      "outputs": [
        {
          "output_type": "execute_result",
          "data": {
            "text/plain": [
              "[<matplotlib.lines.Line2D at 0x7f9e0300fda0>]"
            ]
          },
          "metadata": {
            "tags": []
          },
          "execution_count": 6
        },
        {
          "output_type": "display_data",
          "data": {
            "image/png": "[encoded data removed]",
            "text/plain": [
              "<Figure size 432x288 with 1 Axes>"
            ]
          },
          "metadata": {
            "tags": []
          }
        }
      ]
    },
    {
      "cell_type": "markdown",
      "metadata": {
        "id": "LKkcDXyZso7l",
        "colab_type": "text"
      },
      "source": [
        "So in our example the epidemic will stop spreading after 60 days with total number of infected at over 14000."
      ]
    },
    {
      "cell_type": "markdown",
      "metadata": {
        "id": "0WGMOG_1tk4g",
        "colab_type": "text"
      },
      "source": [
        "### For those from the future\n",
        "\n",
        "You could try to tweak the parameters to match the real data."
      ]
    },
    {
      "cell_type": "code",
      "metadata": {
        "id": "XyEDj3lJpNOz",
        "colab_type": "code",
        "outputId": "af6bcba3-eecf-499e-ccbe-fbd21cbf1c9a",
        "colab": {
          "base_uri": "https://localhost:8080/",
          "height": 282
        }
      },
      "source": [
        "# Play with these:\n",
        "RATE = 0.994 # 1 - no progress, the smaller the faster the disease will be stoped\n",
        "GROWTH = 1.4 # The bigger the faster the virus will spread\n",
        "DAYS = 60\n",
        "\n",
        "line = list(infection_simulation(DAYS, GROWTH, RATE))\n",
        "_, ax = plt.subplots()\n",
        "ax.plot(line)\n",
        "ax.plot(*dline)"
      ],
      "execution_count": 7,
      "outputs": [
        {
          "output_type": "execute_result",
          "data": {
            "text/plain": [
              "[<matplotlib.lines.Line2D at 0x7f9e02f634a8>]"
            ]
          },
          "metadata": {
            "tags": []
          },
          "execution_count": 7
        },
        {
          "output_type": "display_data",
          "data": {
            "image/png": "[encoded data removed]",
            "text/plain": [
              "<Figure size 432x288 with 1 Axes>"
            ]
          },
          "metadata": {
            "tags": []
          }
        }
      ]
    },
    {
      "cell_type": "markdown",
      "metadata": {
        "id": "skhRb_jYvZId",
        "colab_type": "text"
      },
      "source": [
        "# The fun part - Predicting when the epidemic will end\n",
        "\n",
        "> 11.03.2020 - There is not enough data to predict anything so I am waiting for the data\n",
        "\n",
        "We can't really predict the end of the epidemic but we can detect if the epidemic slows down.\n",
        "\n",
        "\n",
        "### Comparing to exponential\n",
        "\n",
        "So the first idea could be to compare it to the exponential growth. We could plot both of this line and where the \"true\" starts to skew from the exponential line.\n",
        "\n",
        "> NOTE: I'm using here `infection_simulation` instead of `exponential_line_generator` since I want to have non-static growth factor\n",
        "\n"
      ]
    },
    {
      "cell_type": "code",
      "metadata": {
        "id": "gXTa064v2R97",
        "colab_type": "code",
        "outputId": "67ba7231-b68f-414c-c52b-6b71fa958953",
        "colab": {
          "base_uri": "https://localhost:8080/",
          "height": 285
        }
      },
      "source": [
        "line = list(infection_simulation(60, 1.26, 0.994))\n",
        "\n",
        "exponential_line = list(infection_simulation(33, 1.26, 0.994, 1.1))\n",
        "\n",
        "fig, ax = plt.subplots()\n",
        "ax.plot(line)\n",
        "ax.plot(exponential_line)\n",
        "ax.scatter([25], [54])"
      ],
      "execution_count": 8,
      "outputs": [
        {
          "output_type": "execute_result",
          "data": {
            "text/plain": [
              "<matplotlib.collections.PathCollection at 0x7f9e04f8b2b0>"
            ]
          },
          "metadata": {
            "tags": []
          },
          "execution_count": 8
        },
        {
          "output_type": "display_data",
          "data": {
            "image/png": "[encoded data removed]",
            "text/plain": [
              "<Figure size 432x288 with 1 Axes>"
            ]
          },
          "metadata": {
            "tags": []
          }
        }
      ]
    },
    {
      "cell_type": "markdown",
      "metadata": {
        "id": "NVHDNS3DKf_4",
        "colab_type": "text"
      },
      "source": [
        "### Daily increase ratio\n",
        "\n",
        "Other method to accomplish this could be to compare the increase in number of new infection to the previous day.\n",
        "\n",
        "So let's suppose this data:\n",
        "\n",
        "```\n",
        "[1, 2, 4, 7, 11, 15, 19]\n",
        "```\n",
        "\n",
        "The first day there is 1 new infection.\n",
        "Second day there are 2, third day it's 3, then 4.\n",
        "But then every next day it's still 4. And this might be actually a good information since that means the growth ratio stopped raising.\n",
        "\n",
        "So we can calculate the ratio between differnce of newly infected for current day and for the previous day and when the ratio is equal to 1 (like in our example 4 divided by 4) that means that the epidemic has come to its ....  "
      ]
    },
    {
      "cell_type": "code",
      "metadata": {
        "id": "3xq39fDM2fTA",
        "colab_type": "code",
        "colab": {
          "base_uri": "https://localhost:8080/",
          "height": 282
        },
        "outputId": "054c4e67-293a-4677-b3a5-1f5e3ee0a5e3"
      },
      "source": [
        "def calculate_ratios(samples: list, _plot_size : int = 50) -> list:\n",
        "  diffs = []\n",
        "  ratios = [] \n",
        "  prev = None\n",
        "  for point in samples:\n",
        "    if prev:\n",
        "      diff = point - prev\n",
        "      diffs.append(diff)\n",
        "      if len(diffs) > 1 and diffs[-2] != 0:\n",
        "        ratio = diff / diffs[-2]\n",
        "        ratios.append(ratio * _plot_size)\n",
        "    prev = point\n",
        "\n",
        "  return ratios\n",
        "\n",
        "EPOCHS = 60\n",
        "line = list(infection_simulation(EPOCHS, 1.26, 0.994))\n",
        "ratios = calculate_ratios(line)\n",
        "\n",
        "fig, ax = plt.subplots()\n",
        "ax.plot(line)\n",
        "ax.plot(ratios)\n",
        "ax.plot([i for i in range(len(line))], [50 for _ in range(len(line))])"
      ],
      "execution_count": 9,
      "outputs": [
        {
          "output_type": "execute_result",
          "data": {
            "text/plain": [
              "[<matplotlib.lines.Line2D at 0x7f9e006c9cc0>]"
            ]
          },
          "metadata": {
            "tags": []
          },
          "execution_count": 9
        },
        {
          "output_type": "display_data",
          "data": {
            "image/png": "[encoded data removed]",
            "text/plain": [
              "<Figure size 432x288 with 1 Axes>"
            ]
          },
          "metadata": {
            "tags": []
          }
        }
      ]
    },
    {
      "cell_type": "markdown",
      "metadata": {
        "id": "2GCZzW8HRc4W",
        "colab_type": "text"
      },
      "source": [
        "Let me explain this plot to you, because it might be overwhelming. The blue line is, like previous, the number of infected. The orange line is the ratio between this end previous day and the green line shows the \"1\" for the orange line. I draw this since I multiplied every ratio by 50 to make it visible on the plot. So in the point where orange line crosses green line the epidemic stops and this should be the same point as in the previous method"
      ]
    },
    {
      "cell_type": "markdown",
      "metadata": {
        "id": "pQutLLh2sRK-",
        "colab_type": "text"
      },
      "source": [
        "## Testing with real data\n",
        "\n",
        "Tests on data from China and Italy"
      ]
    },
    {
      "cell_type": "code",
      "metadata": {
        "id": "SII1htkaNA2t",
        "colab_type": "code",
        "colab": {}
      },
      "source": [
        "def predictor(data, _plot_size):\n",
        "  ratios = calculate_ratios(data, _plot_size)\n",
        "\n",
        "  fig, ax = plt.subplots()\n",
        "  ax.plot(data)\n",
        "  ax.plot(ratios)\n",
        "  ax.plot([i for i in range(len(line))], [_plot_size for _ in range(len(line))])"
      ],
      "execution_count": 0,
      "outputs": []
    },
    {
      "cell_type": "code",
      "metadata": {
        "id": "CMWWQiFpx7_V",
        "colab_type": "code",
        "colab": {}
      },
      "source": [
        "def get_data(d, country):\n",
        "  d = d.filter(like=country, axis=0)\n",
        "  d_sum = np.array(d.values[1][3:])\n",
        "  for v in d.values[1:]:\n",
        "    d_sum += np.array(v[3:])\n",
        "  return d_sum"
      ],
      "execution_count": 0,
      "outputs": []
    },
    {
      "cell_type": "code",
      "metadata": {
        "id": "BnVHxxEgsxJO",
        "colab_type": "code",
        "colab": {
          "base_uri": "https://localhost:8080/",
          "height": 123
        },
        "outputId": "4a96ee44-ac83-483c-d5d1-7a0c8ada12c2"
      },
      "source": [
        "dataset_china = get_data(d, \"Mainland China\")\n",
        "dataset_china"
      ],
      "execution_count": 12,
      "outputs": [
        {
          "output_type": "execute_result",
          "data": {
            "text/plain": [
              "array([560, 652, 937, 1401, 2070, 2873, 5479, 6029, 8038, 9685, 11742,\n",
              "       16458, 19497, 23428, 27132, 30236, 33707, 36360, 39337, 41813,\n",
              "       43809, 44162, 59288, 65730, 67772, 69864, 71772, 73544, 73953,\n",
              "       74407, 74880, 76332, 76348, 76562, 77071, 77476, 77919, 78244,\n",
              "       78672, 79249, 79450, 79575, 79699, 79850, 80005, 80088, 80137,\n",
              "       80173, 80196], dtype=object)"
            ]
          },
          "metadata": {
            "tags": []
          },
          "execution_count": 12
        }
      ]
    },
    {
      "cell_type": "code",
      "metadata": {
        "id": "LciKrZ5iz_eU",
        "colab_type": "code",
        "colab": {
          "base_uri": "https://localhost:8080/",
          "height": 282
        },
        "outputId": "570ef59e-92d7-419e-b070-8c8ad866ac69"
      },
      "source": [
        "# Compare to \"simulated\" data\n",
        "\n",
        "RATE = 0.99 # 1 - no progress, the smaller the faster the disease will be stoped\n",
        "GROWTH = 1.6 # The bigger the faster the virus will spread\n",
        "DAYS = 50\n",
        "SHIFT = 20\n",
        "\n",
        "dataset_china = get_data(d, \"Mainland China\")\n",
        "line = list(infection_simulation(SHIFT+DAYS, GROWTH, RATE))\n",
        "_, ax = plt.subplots()\n",
        "ax.plot(line[SHIFT:])\n",
        "ax.plot(dataset_china)"
      ],
      "execution_count": 13,
      "outputs": [
        {
          "output_type": "execute_result",
          "data": {
            "text/plain": [
              "[<matplotlib.lines.Line2D at 0x7f9e0063a208>]"
            ]
          },
          "metadata": {
            "tags": []
          },
          "execution_count": 13
        },
        {
          "output_type": "display_data",
          "data": {
            "image/png": "[encoded data removed]",
            "text/plain": [
              "<Figure size 432x288 with 1 Axes>"
            ]
          },
          "metadata": {
            "tags": []
          }
        }
      ]
    },
    {
      "cell_type": "code",
      "metadata": {
        "id": "y2HYcMkJvELK",
        "colab_type": "code",
        "colab": {
          "base_uri": "https://localhost:8080/",
          "height": 264
        },
        "outputId": "85df3bdf-d10c-421f-9d90-d48b15b9e535"
      },
      "source": [
        "predictor(dataset_china, 2000)"
      ],
      "execution_count": 14,
      "outputs": [
        {
          "output_type": "display_data",
          "data": {
            "image/png": "[encoded data removed]",
            "text/plain": [
              "<Figure size 432x288 with 1 Axes>"
            ]
          },
          "metadata": {
            "tags": []
          }
        }
      ]
    },
    {
      "cell_type": "markdown",
      "metadata": {
        "id": "sEo7rLB3xhp1",
        "colab_type": "text"
      },
      "source": [
        "Conclusion: It doesn't seem to work when adding data from the whole country. Or maybe it's just too noisy. Let's try by one region."
      ]
    },
    {
      "cell_type": "markdown",
      "metadata": {
        "id": "QztqyaGLypux",
        "colab_type": "text"
      },
      "source": [
        "#### Test for only one region instead of whole country"
      ]
    },
    {
      "cell_type": "code",
      "metadata": {
        "id": "SjP1BeNhvaZO",
        "colab_type": "code",
        "colab": {
          "base_uri": "https://localhost:8080/",
          "height": 282
        },
        "outputId": "f93a008a-813b-4a20-83d1-95736af5057f"
      },
      "source": [
        "dataset_china = d.filter(like=\"Mainland China\", axis=0)\n",
        "dataset_china = dataset_china.values[0][3:]\n",
        "\n",
        "# Compare to \"simulated\" data\n",
        "RATE = 0.9898 # 1 - no progress, the smaller the faster the disease will be stoped\n",
        "GROWTH = 1.45 # The bigger the faster the virus will spread\n",
        "DAYS = 50\n",
        "SHIFT = 10\n",
        "\n",
        "line = list(infection_simulation(SHIFT+DAYS, GROWTH, RATE))\n",
        "_, ax = plt.subplots()\n",
        "ax.plot(line[SHIFT:])\n",
        "ax.plot(dataset_china)"
      ],
      "execution_count": 15,
      "outputs": [
        {
          "output_type": "execute_result",
          "data": {
            "text/plain": [
              "[<matplotlib.lines.Line2D at 0x7f9e00586a20>]"
            ]
          },
          "metadata": {
            "tags": []
          },
          "execution_count": 15
        },
        {
          "output_type": "display_data",
          "data": {
            "image/png": "[encoded data removed]",
            "text/plain": [
              "<Figure size 432x288 with 1 Axes>"
            ]
          },
          "metadata": {
            "tags": []
          }
        }
      ]
    },
    {
      "cell_type": "code",
      "metadata": {
        "id": "PxfYCc1ry1aR",
        "colab_type": "code",
        "colab": {
          "base_uri": "https://localhost:8080/",
          "height": 264
        },
        "outputId": "ede58cea-8e14-4ca6-f7af-1d27aa2929ac"
      },
      "source": [
        "predictor(dataset_china, 300)"
      ],
      "execution_count": 16,
      "outputs": [
        {
          "output_type": "display_data",
          "data": {
            "image/png": "[encoded data removed]",
            "text/plain": [
              "<Figure size 432x288 with 1 Axes>"
            ]
          },
          "metadata": {
            "tags": []
          }
        }
      ]
    },
    {
      "cell_type": "markdown",
      "metadata": {
        "id": "r5qN_B_mznpf",
        "colab_type": "text"
      },
      "source": [
        "Now it looks promising. It's very noisy but we can see that it's now for sure below the green bar. And so the China Government says that the epidemic is under control."
      ]
    }
  ]
}